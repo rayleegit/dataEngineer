{
 "cells": [
  {
   "cell_type": "markdown",
   "metadata": {},
   "source": [
    "# Data Engineering Project"
   ]
  },
  {
   "cell_type": "markdown",
   "metadata": {},
   "source": [
    "## What problem will we solve? ##\n",
    "We will look at the most populous U.S. cities and identify which ones are the most expensive and the most affordable to live in. This will help us decide which city we'd like to move to next."
   ]
  },
  {
   "cell_type": "markdown",
   "metadata": {},
   "source": [
    "## What datasets will we use? ##\n",
    "\n",
    "We will scrape three datasets: <br/>\n",
    "\n",
    "1) Wikipedia [List of United States cities by population](https://en.wikipedia.org/wiki/List_of_United_States_cities_by_population) data, which lists the most populous U.S. cities\n",
    "\n",
    "2) [Zillow Home Value Index](https://www.zillow.com/research/zhvi-methodology-6032/) data, an estimate of median home values by city. \n",
    "\n",
    "3) Wikipedia [Household income in the United States](https://en.wikipedia.org/wiki/Household_income_in_the_United_States) data, which lists 2017 median household income by state \n",
    "\n",
    "\n",
    "    \n",
    "    "
   ]
  },
  {
   "cell_type": "markdown",
   "metadata": {},
   "source": [
    "## How will we use these datasets to solve the problem? ##\n",
    "We will append (2) median home value data and (3) household income data to the (1) list of most populous U.S. cities, and then calculate a \"Cost Score\", which shows for each city how many years of income is required to purchase a median value home. This tells us, relative to other cities, how costly it is to live in a particular city. We will then create a \"Cost Rank\" based on this score. </br>\n",
    "\n",
    "\"Cost Score\" equation is:\n"
   ]
  },
  {
   "cell_type": "markdown",
   "metadata": {},
   "source": [
    "$$\\mathtt Cost Score= \\frac{Median Home Value}{Median Income}$$"
   ]
  },
  {
   "cell_type": "markdown",
   "metadata": {},
   "source": [
    "If \"Cost Score\" = 1,000,000 / 100,000 = 10, this means it takes 10 years of median income to purchase a median value home."
   ]
  },
  {
   "cell_type": "markdown",
   "metadata": {},
   "source": [
    "## What steps will we take to do this? ##\n",
    "\n",
    "We will: <br/>\n",
    "\n",
    "I. Scrape the Data <br/>\n",
    "\n",
    "II. Join the Data <br/>\n",
    "\n",
    "III. Analyze the Data"
   ]
  },
  {
   "cell_type": "markdown",
   "metadata": {},
   "source": [
    "## Step I. Scrape the Data"
   ]
  },
  {
   "cell_type": "markdown",
   "metadata": {},
   "source": [
    "### First, let's download (1) Wikipedia 'List of United States cities by population' data."
   ]
  },
  {
   "cell_type": "code",
   "execution_count": 130,
   "metadata": {},
   "outputs": [],
   "source": [
    "# import libraries\n",
    "import requests\n",
    "import urllib.request\n",
    "import time\n",
    "from bs4 import BeautifulSoup # great for parsing html\n",
    "import pandas as pd\n",
    "import wikipedia as wp # great for fetching wikipedia html data"
   ]
  },
  {
   "cell_type": "code",
   "execution_count": 662,
   "metadata": {},
   "outputs": [],
   "source": [
    "# set variable for wikipedia page html\n",
    "html = wp.page('List of United States cities by population').html().encode(\"UTF-8\")\n",
    "\n",
    "# set variable for our main data table. the data table we want to fetch is the fourth element in the wikipedia page html\n",
    "df = pd.read_html(html)[4] "
   ]
  },
  {
   "cell_type": "code",
   "execution_count": 663,
   "metadata": {},
   "outputs": [
    {
     "data": {
      "text/html": [
       "<div>\n",
       "<style scoped>\n",
       "    .dataframe tbody tr th:only-of-type {\n",
       "        vertical-align: middle;\n",
       "    }\n",
       "\n",
       "    .dataframe tbody tr th {\n",
       "        vertical-align: top;\n",
       "    }\n",
       "\n",
       "    .dataframe thead th {\n",
       "        text-align: right;\n",
       "    }\n",
       "</style>\n",
       "<table border=\"1\" class=\"dataframe\">\n",
       "  <thead>\n",
       "    <tr style=\"text-align: right;\">\n",
       "      <th></th>\n",
       "      <th>2018rank</th>\n",
       "      <th>City</th>\n",
       "      <th>State[c]</th>\n",
       "      <th>2018estimate</th>\n",
       "      <th>2010Census</th>\n",
       "      <th>Change</th>\n",
       "      <th>2016 land area</th>\n",
       "      <th>2016 land area.1</th>\n",
       "      <th>2016 population density</th>\n",
       "      <th>2016 population density.1</th>\n",
       "      <th>Location</th>\n",
       "    </tr>\n",
       "  </thead>\n",
       "  <tbody>\n",
       "    <tr>\n",
       "      <th>0</th>\n",
       "      <td>1</td>\n",
       "      <td>New York City[d]</td>\n",
       "      <td>New York</td>\n",
       "      <td>8398748</td>\n",
       "      <td>8175133</td>\n",
       "      <td>+2.74%</td>\n",
       "      <td>301.5 sq mi</td>\n",
       "      <td>780.9 km2</td>\n",
       "      <td>28,317/sq mi</td>\n",
       "      <td>10,933/km2</td>\n",
       "      <td>40Â°39â²49â³N 73Â°56â²19â³W﻿ / ﻿40.6635Â°N...</td>\n",
       "    </tr>\n",
       "    <tr>\n",
       "      <th>1</th>\n",
       "      <td>2</td>\n",
       "      <td>Los Angeles</td>\n",
       "      <td>California</td>\n",
       "      <td>3990456</td>\n",
       "      <td>3792621</td>\n",
       "      <td>+5.22%</td>\n",
       "      <td>468.7 sq mi</td>\n",
       "      <td>1,213.9 km2</td>\n",
       "      <td>8,484/sq mi</td>\n",
       "      <td>3,276/km2</td>\n",
       "      <td>34Â°01â²10â³N 118Â°24â²39â³W﻿ / ﻿34.0194Â°...</td>\n",
       "    </tr>\n",
       "    <tr>\n",
       "      <th>2</th>\n",
       "      <td>3</td>\n",
       "      <td>Chicago</td>\n",
       "      <td>Illinois</td>\n",
       "      <td>2705994</td>\n",
       "      <td>2695598</td>\n",
       "      <td>+0.39%</td>\n",
       "      <td>227.3 sq mi</td>\n",
       "      <td>588.7 km2</td>\n",
       "      <td>11,900/sq mi</td>\n",
       "      <td>4,600/km2</td>\n",
       "      <td>41Â°50â²15â³N 87Â°40â²54â³W﻿ / ﻿41.8376Â°N...</td>\n",
       "    </tr>\n",
       "    <tr>\n",
       "      <th>3</th>\n",
       "      <td>4</td>\n",
       "      <td>Houston[3]</td>\n",
       "      <td>Texas</td>\n",
       "      <td>2325502</td>\n",
       "      <td>2100263</td>\n",
       "      <td>+10.72%</td>\n",
       "      <td>637.5 sq mi</td>\n",
       "      <td>1,651.1 km2</td>\n",
       "      <td>3,613/sq mi</td>\n",
       "      <td>1,395/km2</td>\n",
       "      <td>29Â°47â²12â³N 95Â°23â²27â³W﻿ / ﻿29.7866Â°N...</td>\n",
       "    </tr>\n",
       "    <tr>\n",
       "      <th>4</th>\n",
       "      <td>5</td>\n",
       "      <td>Phoenix</td>\n",
       "      <td>Arizona</td>\n",
       "      <td>1660272</td>\n",
       "      <td>1445632</td>\n",
       "      <td>+14.85%</td>\n",
       "      <td>517.6 sq mi</td>\n",
       "      <td>1,340.6 km2</td>\n",
       "      <td>3,120/sq mi</td>\n",
       "      <td>1,200/km2</td>\n",
       "      <td>33Â°34â²20â³N 112Â°05â²24â³W﻿ / ﻿33.5722Â°...</td>\n",
       "    </tr>\n",
       "  </tbody>\n",
       "</table>\n",
       "</div>"
      ],
      "text/plain": [
       "   2018rank              City    State[c]  2018estimate  2010Census   Change  \\\n",
       "0         1  New York City[d]    New York       8398748     8175133   +2.74%   \n",
       "1         2       Los Angeles  California       3990456     3792621   +5.22%   \n",
       "2         3           Chicago    Illinois       2705994     2695598   +0.39%   \n",
       "3         4        Houston[3]       Texas       2325502     2100263  +10.72%   \n",
       "4         5           Phoenix     Arizona       1660272     1445632  +14.85%   \n",
       "\n",
       "  2016 land area 2016 land area.1 2016 population density  \\\n",
       "0    301.5 sq mi        780.9 km2            28,317/sq mi   \n",
       "1    468.7 sq mi      1,213.9 km2             8,484/sq mi   \n",
       "2    227.3 sq mi        588.7 km2            11,900/sq mi   \n",
       "3    637.5 sq mi      1,651.1 km2             3,613/sq mi   \n",
       "4    517.6 sq mi      1,340.6 km2             3,120/sq mi   \n",
       "\n",
       "  2016 population density.1                                           Location  \n",
       "0                10,933/km2  40Â°39â²49â³N 73Â°56â²19â³W﻿ / ﻿40.6635Â°N...  \n",
       "1                 3,276/km2  34Â°01â²10â³N 118Â°24â²39â³W﻿ / ﻿34.0194Â°...  \n",
       "2                 4,600/km2  41Â°50â²15â³N 87Â°40â²54â³W﻿ / ﻿41.8376Â°N...  \n",
       "3                 1,395/km2  29Â°47â²12â³N 95Â°23â²27â³W﻿ / ﻿29.7866Â°N...  \n",
       "4                 1,200/km2  33Â°34â²20â³N 112Â°05â²24â³W﻿ / ﻿33.5722Â°...  "
      ]
     },
     "execution_count": 663,
     "metadata": {},
     "output_type": "execute_result"
    }
   ],
   "source": [
    "# display dataframe\n",
    "df.head()"
   ]
  },
  {
   "cell_type": "markdown",
   "metadata": {},
   "source": [
    "The following code checks for NaN or blank values. As we can see, there are none, and that is great."
   ]
  },
  {
   "cell_type": "code",
   "execution_count": 245,
   "metadata": {},
   "outputs": [
    {
     "name": "stdout",
     "output_type": "stream",
     "text": [
      "2018rank :  False\n",
      "City :  False\n",
      "State[c] :  False\n",
      "2018estimate :  False\n",
      "2010Census :  False\n",
      "Change :  False\n",
      "2016 land area :  False\n",
      "2016 land area.1 :  False\n",
      "2016 population density :  False\n",
      "2016 population density.1 :  False\n",
      "Location :  False\n"
     ]
    }
   ],
   "source": [
    "# let's check for NaN or blank values\n",
    "for i in df:\n",
    "    print(i, ': ', df[i].isnull().values.any())"
   ]
  },
  {
   "cell_type": "markdown",
   "metadata": {},
   "source": [
    "Examining the data types of our fields or columns, it appears that '2016 land area' and '2016 population density' are numeric values being stored as object, or string values. Let's update that. \n",
    "\n",
    "Also, some of the 'City' field values contain an annotation--let's remove these annotations."
   ]
  },
  {
   "cell_type": "code",
   "execution_count": 664,
   "metadata": {},
   "outputs": [
    {
     "data": {
      "text/plain": [
       "2018rank                      int64\n",
       "City                         object\n",
       "State[c]                     object\n",
       "2018estimate                  int64\n",
       "2010Census                    int64\n",
       "Change                       object\n",
       "2016 land area               object\n",
       "2016 land area.1             object\n",
       "2016 population density      object\n",
       "2016 population density.1    object\n",
       "Location                     object\n",
       "dtype: object"
      ]
     },
     "execution_count": 664,
     "metadata": {},
     "output_type": "execute_result"
    }
   ],
   "source": [
    "df.dtypes # let's look at data types"
   ]
  },
  {
   "cell_type": "code",
   "execution_count": 665,
   "metadata": {},
   "outputs": [],
   "source": [
    "# convert to float\n",
    "df['2016 land area'] = df['2016 land area'].apply(lambda x: x.split()[0].replace(',', '')).astype('float')\n",
    "df['2016 population density'] = df['2016 population density'].apply(lambda x: x.split(\"/\")[0].replace(',', '')).astype('float')\n",
    "\n",
    "# get rid of the 'City' annotations\n",
    "df['City'] = df['City'].apply(lambda x: x.split(\"[\")[0]) #"
   ]
  },
  {
   "cell_type": "code",
   "execution_count": 666,
   "metadata": {},
   "outputs": [
    {
     "data": {
      "text/html": [
       "<div>\n",
       "<style scoped>\n",
       "    .dataframe tbody tr th:only-of-type {\n",
       "        vertical-align: middle;\n",
       "    }\n",
       "\n",
       "    .dataframe tbody tr th {\n",
       "        vertical-align: top;\n",
       "    }\n",
       "\n",
       "    .dataframe thead th {\n",
       "        text-align: right;\n",
       "    }\n",
       "</style>\n",
       "<table border=\"1\" class=\"dataframe\">\n",
       "  <thead>\n",
       "    <tr style=\"text-align: right;\">\n",
       "      <th></th>\n",
       "      <th>2018rank</th>\n",
       "      <th>City</th>\n",
       "      <th>State[c]</th>\n",
       "      <th>2018estimate</th>\n",
       "      <th>2010Census</th>\n",
       "      <th>Change</th>\n",
       "      <th>2016 land area</th>\n",
       "      <th>2016 land area.1</th>\n",
       "      <th>2016 population density</th>\n",
       "      <th>2016 population density.1</th>\n",
       "      <th>Location</th>\n",
       "    </tr>\n",
       "  </thead>\n",
       "  <tbody>\n",
       "    <tr>\n",
       "      <th>0</th>\n",
       "      <td>1</td>\n",
       "      <td>New York City</td>\n",
       "      <td>New York</td>\n",
       "      <td>8398748</td>\n",
       "      <td>8175133</td>\n",
       "      <td>+2.74%</td>\n",
       "      <td>301.5</td>\n",
       "      <td>780.9 km2</td>\n",
       "      <td>28317.0</td>\n",
       "      <td>10,933/km2</td>\n",
       "      <td>40Â°39â²49â³N 73Â°56â²19â³W﻿ / ﻿40.6635Â°N...</td>\n",
       "    </tr>\n",
       "    <tr>\n",
       "      <th>1</th>\n",
       "      <td>2</td>\n",
       "      <td>Los Angeles</td>\n",
       "      <td>California</td>\n",
       "      <td>3990456</td>\n",
       "      <td>3792621</td>\n",
       "      <td>+5.22%</td>\n",
       "      <td>468.7</td>\n",
       "      <td>1,213.9 km2</td>\n",
       "      <td>8484.0</td>\n",
       "      <td>3,276/km2</td>\n",
       "      <td>34Â°01â²10â³N 118Â°24â²39â³W﻿ / ﻿34.0194Â°...</td>\n",
       "    </tr>\n",
       "    <tr>\n",
       "      <th>2</th>\n",
       "      <td>3</td>\n",
       "      <td>Chicago</td>\n",
       "      <td>Illinois</td>\n",
       "      <td>2705994</td>\n",
       "      <td>2695598</td>\n",
       "      <td>+0.39%</td>\n",
       "      <td>227.3</td>\n",
       "      <td>588.7 km2</td>\n",
       "      <td>11900.0</td>\n",
       "      <td>4,600/km2</td>\n",
       "      <td>41Â°50â²15â³N 87Â°40â²54â³W﻿ / ﻿41.8376Â°N...</td>\n",
       "    </tr>\n",
       "    <tr>\n",
       "      <th>3</th>\n",
       "      <td>4</td>\n",
       "      <td>Houston</td>\n",
       "      <td>Texas</td>\n",
       "      <td>2325502</td>\n",
       "      <td>2100263</td>\n",
       "      <td>+10.72%</td>\n",
       "      <td>637.5</td>\n",
       "      <td>1,651.1 km2</td>\n",
       "      <td>3613.0</td>\n",
       "      <td>1,395/km2</td>\n",
       "      <td>29Â°47â²12â³N 95Â°23â²27â³W﻿ / ﻿29.7866Â°N...</td>\n",
       "    </tr>\n",
       "    <tr>\n",
       "      <th>4</th>\n",
       "      <td>5</td>\n",
       "      <td>Phoenix</td>\n",
       "      <td>Arizona</td>\n",
       "      <td>1660272</td>\n",
       "      <td>1445632</td>\n",
       "      <td>+14.85%</td>\n",
       "      <td>517.6</td>\n",
       "      <td>1,340.6 km2</td>\n",
       "      <td>3120.0</td>\n",
       "      <td>1,200/km2</td>\n",
       "      <td>33Â°34â²20â³N 112Â°05â²24â³W﻿ / ﻿33.5722Â°...</td>\n",
       "    </tr>\n",
       "  </tbody>\n",
       "</table>\n",
       "</div>"
      ],
      "text/plain": [
       "   2018rank           City    State[c]  2018estimate  2010Census   Change  \\\n",
       "0         1  New York City    New York       8398748     8175133   +2.74%   \n",
       "1         2    Los Angeles  California       3990456     3792621   +5.22%   \n",
       "2         3        Chicago    Illinois       2705994     2695598   +0.39%   \n",
       "3         4        Houston       Texas       2325502     2100263  +10.72%   \n",
       "4         5        Phoenix     Arizona       1660272     1445632  +14.85%   \n",
       "\n",
       "   2016 land area 2016 land area.1  2016 population density  \\\n",
       "0           301.5        780.9 km2                  28317.0   \n",
       "1           468.7      1,213.9 km2                   8484.0   \n",
       "2           227.3        588.7 km2                  11900.0   \n",
       "3           637.5      1,651.1 km2                   3613.0   \n",
       "4           517.6      1,340.6 km2                   3120.0   \n",
       "\n",
       "  2016 population density.1                                           Location  \n",
       "0                10,933/km2  40Â°39â²49â³N 73Â°56â²19â³W﻿ / ﻿40.6635Â°N...  \n",
       "1                 3,276/km2  34Â°01â²10â³N 118Â°24â²39â³W﻿ / ﻿34.0194Â°...  \n",
       "2                 4,600/km2  41Â°50â²15â³N 87Â°40â²54â³W﻿ / ﻿41.8376Â°N...  \n",
       "3                 1,395/km2  29Â°47â²12â³N 95Â°23â²27â³W﻿ / ﻿29.7866Â°N...  \n",
       "4                 1,200/km2  33Â°34â²20â³N 112Â°05â²24â³W﻿ / ﻿33.5722Â°...  "
      ]
     },
     "execution_count": 666,
     "metadata": {},
     "output_type": "execute_result"
    }
   ],
   "source": [
    "df.head()"
   ]
  },
  {
   "cell_type": "markdown",
   "metadata": {},
   "source": [
    "Let's update the headers to reflect our conversions and let's also remove the annotation from the 'State[c]' header."
   ]
  },
  {
   "cell_type": "code",
   "execution_count": 667,
   "metadata": {},
   "outputs": [],
   "source": [
    "df.rename(columns = {\"State[c]\": \"State\", \n",
    "                     \"2016 land area\": \"2016 land area (sq mi)\", \n",
    "                     \"2016 population density\": \"2016 population density (sq mi)\"}, inplace = True)"
   ]
  },
  {
   "cell_type": "markdown",
   "metadata": {},
   "source": [
    "We don't need 'Change', '2016 land area.1', '2016 population density.1', and 'Location' for our analysis, so let's drop these fields. "
   ]
  },
  {
   "cell_type": "code",
   "execution_count": 668,
   "metadata": {},
   "outputs": [],
   "source": [
    "df = df.drop(columns = ['Change', '2016 land area.1', '2016 population density.1', 'Location'])"
   ]
  },
  {
   "cell_type": "markdown",
   "metadata": {},
   "source": [
    "Let's save our dataframe to csv."
   ]
  },
  {
   "cell_type": "code",
   "execution_count": 669,
   "metadata": {},
   "outputs": [],
   "source": [
    "df.to_csv('topCities.csv',header=1,index=False) # save to csv"
   ]
  },
  {
   "cell_type": "code",
   "execution_count": 670,
   "metadata": {},
   "outputs": [],
   "source": [
    "df_topCities = pd.read_csv('topCities.csv') # read csv for further manipulation"
   ]
  },
  {
   "cell_type": "markdown",
   "metadata": {},
   "source": [
    "### Next, let's download (2) 'Zillow Home Value Index' data."
   ]
  },
  {
   "cell_type": "code",
   "execution_count": 672,
   "metadata": {},
   "outputs": [
    {
     "data": {
      "text/plain": [
       "('./City_Zhvi_Summary_AllHomes.csv', <http.client.HTTPMessage at 0x11b904f98>)"
      ]
     },
     "execution_count": 672,
     "metadata": {},
     "output_type": "execute_result"
    }
   ],
   "source": [
    "# download zillow home index data\n",
    "urllib.request.urlretrieve('http://files.zillowstatic.com/research/public/City/City_Zhvi_Summary_AllHomes.csv', './City_Zhvi_Summary_AllHomes.csv')"
   ]
  },
  {
   "cell_type": "code",
   "execution_count": 674,
   "metadata": {
    "scrolled": false
   },
   "outputs": [],
   "source": [
    "# load zillow home index data. RegionName = city\n",
    "df = pd.read_csv('City_Zhvi_Summary_AllHomes.csv', encoding='latin-1')"
   ]
  },
  {
   "cell_type": "code",
   "execution_count": 675,
   "metadata": {},
   "outputs": [
    {
     "data": {
      "text/html": [
       "<div>\n",
       "<style scoped>\n",
       "    .dataframe tbody tr th:only-of-type {\n",
       "        vertical-align: middle;\n",
       "    }\n",
       "\n",
       "    .dataframe tbody tr th {\n",
       "        vertical-align: top;\n",
       "    }\n",
       "\n",
       "    .dataframe thead th {\n",
       "        text-align: right;\n",
       "    }\n",
       "</style>\n",
       "<table border=\"1\" class=\"dataframe\">\n",
       "  <thead>\n",
       "    <tr style=\"text-align: right;\">\n",
       "      <th></th>\n",
       "      <th>Date</th>\n",
       "      <th>RegionID</th>\n",
       "      <th>RegionName</th>\n",
       "      <th>State</th>\n",
       "      <th>Metro</th>\n",
       "      <th>County</th>\n",
       "      <th>SizeRank</th>\n",
       "      <th>Zhvi</th>\n",
       "      <th>MoM</th>\n",
       "      <th>QoQ</th>\n",
       "      <th>YoY</th>\n",
       "      <th>5Year</th>\n",
       "      <th>10Year</th>\n",
       "      <th>PeakMonth</th>\n",
       "      <th>PeakQuarter</th>\n",
       "      <th>PeakZHVI</th>\n",
       "      <th>PctFallFromPeak</th>\n",
       "      <th>LastTimeAtCurrZHVI</th>\n",
       "    </tr>\n",
       "  </thead>\n",
       "  <tbody>\n",
       "    <tr>\n",
       "      <th>0</th>\n",
       "      <td>2019-04-30</td>\n",
       "      <td>6181</td>\n",
       "      <td>New York</td>\n",
       "      <td>NY</td>\n",
       "      <td>New York-Newark-Jersey City</td>\n",
       "      <td>Queens County</td>\n",
       "      <td>0</td>\n",
       "      <td>677000</td>\n",
       "      <td>-0.002799</td>\n",
       "      <td>-0.003386</td>\n",
       "      <td>0.024051</td>\n",
       "      <td>0.062360</td>\n",
       "      <td>0.039604</td>\n",
       "      <td>2018-12</td>\n",
       "      <td>2018-Q4</td>\n",
       "      <td>680400</td>\n",
       "      <td>-0.004997</td>\n",
       "      <td>2018-10</td>\n",
       "    </tr>\n",
       "    <tr>\n",
       "      <th>1</th>\n",
       "      <td>2019-04-30</td>\n",
       "      <td>12447</td>\n",
       "      <td>Los Angeles</td>\n",
       "      <td>CA</td>\n",
       "      <td>Los Angeles-Long Beach-Anaheim</td>\n",
       "      <td>Los Angeles County</td>\n",
       "      <td>1</td>\n",
       "      <td>686100</td>\n",
       "      <td>-0.003775</td>\n",
       "      <td>-0.007809</td>\n",
       "      <td>0.021590</td>\n",
       "      <td>0.072236</td>\n",
       "      <td>0.049628</td>\n",
       "      <td>2019-01</td>\n",
       "      <td>2019-Q1</td>\n",
       "      <td>691500</td>\n",
       "      <td>-0.007809</td>\n",
       "      <td>2018-10</td>\n",
       "    </tr>\n",
       "    <tr>\n",
       "      <th>2</th>\n",
       "      <td>2019-04-30</td>\n",
       "      <td>39051</td>\n",
       "      <td>Houston</td>\n",
       "      <td>TX</td>\n",
       "      <td>Houston-The Woodlands-Sugar Land</td>\n",
       "      <td>Harris County</td>\n",
       "      <td>2</td>\n",
       "      <td>186000</td>\n",
       "      <td>-0.006410</td>\n",
       "      <td>0.001076</td>\n",
       "      <td>0.053824</td>\n",
       "      <td>0.081350</td>\n",
       "      <td>0.040710</td>\n",
       "      <td>2019-03</td>\n",
       "      <td>2019-Q1</td>\n",
       "      <td>187200</td>\n",
       "      <td>-0.006410</td>\n",
       "      <td>2019-03</td>\n",
       "    </tr>\n",
       "    <tr>\n",
       "      <th>3</th>\n",
       "      <td>2019-04-30</td>\n",
       "      <td>17426</td>\n",
       "      <td>Chicago</td>\n",
       "      <td>IL</td>\n",
       "      <td>Chicago-Naperville-Elgin</td>\n",
       "      <td>Cook County</td>\n",
       "      <td>3</td>\n",
       "      <td>229400</td>\n",
       "      <td>-0.002609</td>\n",
       "      <td>0.003939</td>\n",
       "      <td>0.005699</td>\n",
       "      <td>0.045435</td>\n",
       "      <td>0.004467</td>\n",
       "      <td>2007-02</td>\n",
       "      <td>2007-Q1</td>\n",
       "      <td>263900</td>\n",
       "      <td>-0.130731</td>\n",
       "      <td>2004-11</td>\n",
       "    </tr>\n",
       "    <tr>\n",
       "      <th>4</th>\n",
       "      <td>2019-04-30</td>\n",
       "      <td>6915</td>\n",
       "      <td>San Antonio</td>\n",
       "      <td>TX</td>\n",
       "      <td>San Antonio-New Braunfels</td>\n",
       "      <td>Bexar County</td>\n",
       "      <td>4</td>\n",
       "      <td>176100</td>\n",
       "      <td>-0.002831</td>\n",
       "      <td>0.001137</td>\n",
       "      <td>0.058930</td>\n",
       "      <td>0.075288</td>\n",
       "      <td>0.037982</td>\n",
       "      <td>2019-03</td>\n",
       "      <td>2019-Q1</td>\n",
       "      <td>176600</td>\n",
       "      <td>-0.002831</td>\n",
       "      <td>2019-02</td>\n",
       "    </tr>\n",
       "  </tbody>\n",
       "</table>\n",
       "</div>"
      ],
      "text/plain": [
       "         Date  RegionID   RegionName State                             Metro  \\\n",
       "0  2019-04-30      6181     New York    NY       New York-Newark-Jersey City   \n",
       "1  2019-04-30     12447  Los Angeles    CA    Los Angeles-Long Beach-Anaheim   \n",
       "2  2019-04-30     39051      Houston    TX  Houston-The Woodlands-Sugar Land   \n",
       "3  2019-04-30     17426      Chicago    IL          Chicago-Naperville-Elgin   \n",
       "4  2019-04-30      6915  San Antonio    TX         San Antonio-New Braunfels   \n",
       "\n",
       "               County  SizeRank    Zhvi       MoM       QoQ       YoY  \\\n",
       "0       Queens County         0  677000 -0.002799 -0.003386  0.024051   \n",
       "1  Los Angeles County         1  686100 -0.003775 -0.007809  0.021590   \n",
       "2       Harris County         2  186000 -0.006410  0.001076  0.053824   \n",
       "3         Cook County         3  229400 -0.002609  0.003939  0.005699   \n",
       "4        Bexar County         4  176100 -0.002831  0.001137  0.058930   \n",
       "\n",
       "      5Year    10Year PeakMonth PeakQuarter  PeakZHVI  PctFallFromPeak  \\\n",
       "0  0.062360  0.039604   2018-12     2018-Q4    680400        -0.004997   \n",
       "1  0.072236  0.049628   2019-01     2019-Q1    691500        -0.007809   \n",
       "2  0.081350  0.040710   2019-03     2019-Q1    187200        -0.006410   \n",
       "3  0.045435  0.004467   2007-02     2007-Q1    263900        -0.130731   \n",
       "4  0.075288  0.037982   2019-03     2019-Q1    176600        -0.002831   \n",
       "\n",
       "  LastTimeAtCurrZHVI  \n",
       "0            2018-10  \n",
       "1            2018-10  \n",
       "2            2019-03  \n",
       "3            2004-11  \n",
       "4            2019-02  "
      ]
     },
     "execution_count": 675,
     "metadata": {},
     "output_type": "execute_result"
    }
   ],
   "source": [
    "# display dataframe\n",
    "df.head()"
   ]
  },
  {
   "cell_type": "markdown",
   "metadata": {},
   "source": [
    "The dataset contains NaN or blank values, but none for the fields we are focused on, 'RegionName' or 'City', and 'Zhvi', so we are good to go."
   ]
  },
  {
   "cell_type": "code",
   "execution_count": 676,
   "metadata": {},
   "outputs": [
    {
     "name": "stdout",
     "output_type": "stream",
     "text": [
      "Date :  False\n",
      "RegionID :  False\n",
      "RegionName :  False\n",
      "State :  False\n",
      "Metro :  True\n",
      "County :  False\n",
      "SizeRank :  False\n",
      "Zhvi :  False\n",
      "MoM :  False\n",
      "QoQ :  False\n",
      "YoY :  False\n",
      "5Year :  True\n",
      "10Year :  True\n",
      "PeakMonth :  False\n",
      "PeakQuarter :  False\n",
      "PeakZHVI :  False\n",
      "PctFallFromPeak :  False\n",
      "LastTimeAtCurrZHVI :  True\n"
     ]
    }
   ],
   "source": [
    "# let's check for NaN or blank values\n",
    "for i in df:\n",
    "    print(i, ': ', df[i].isnull().values.any())"
   ]
  },
  {
   "cell_type": "code",
   "execution_count": 262,
   "metadata": {},
   "outputs": [
    {
     "data": {
      "text/plain": [
       "Date                   object\n",
       "RegionID                int64\n",
       "RegionName             object\n",
       "State                  object\n",
       "Metro                  object\n",
       "County                 object\n",
       "SizeRank                int64\n",
       "Zhvi                    int64\n",
       "MoM                   float64\n",
       "QoQ                   float64\n",
       "YoY                   float64\n",
       "5Year                 float64\n",
       "10Year                float64\n",
       "PeakMonth              object\n",
       "PeakQuarter            object\n",
       "PeakZHVI                int64\n",
       "PctFallFromPeak       float64\n",
       "LastTimeAtCurrZHVI     object\n",
       "dtype: object"
      ]
     },
     "execution_count": 262,
     "metadata": {},
     "output_type": "execute_result"
    }
   ],
   "source": [
    "df.dtypes # let's look at data types"
   ]
  },
  {
   "cell_type": "code",
   "execution_count": 677,
   "metadata": {},
   "outputs": [],
   "source": [
    "# let's keep only the columns we're interested in\n",
    "df = df[['RegionName', 'State', 'Zhvi']]"
   ]
  },
  {
   "cell_type": "code",
   "execution_count": 678,
   "metadata": {},
   "outputs": [],
   "source": [
    "# let's save to csv\n",
    "df.to_csv('zhviCities.csv',header=1,index=False)"
   ]
  },
  {
   "cell_type": "code",
   "execution_count": 679,
   "metadata": {},
   "outputs": [],
   "source": [
    "# df_zhviCities = pd.read_csv()\n",
    "df_zhviCities = pd.read_csv('zhviCities.csv')"
   ]
  },
  {
   "cell_type": "markdown",
   "metadata": {},
   "source": [
    "The 'State' field is abbreviated--we will need to convert this field to be spelled out. To do so, we will do a left join to connect a spelled out 'State' field to the abbreviated 'State' field."
   ]
  },
  {
   "cell_type": "code",
   "execution_count": 688,
   "metadata": {},
   "outputs": [],
   "source": [
    "# let's create a dataframe to convert state abbreviations to the full spelling\n",
    "states = {\n",
    "        'AK': 'Alaska',\n",
    "        'AL': 'Alabama',\n",
    "        'AR': 'Arkansas',\n",
    "        'AS': 'American Samoa',\n",
    "        'AZ': 'Arizona',\n",
    "        'CA': 'California',\n",
    "        'CO': 'Colorado',\n",
    "        'CT': 'Connecticut',\n",
    "        'DC': 'District of Columbia',\n",
    "        'DE': 'Delaware',\n",
    "        'FL': 'Florida',\n",
    "        'GA': 'Georgia',\n",
    "        'GU': 'Guam',\n",
    "        'HI': 'Hawaii',\n",
    "        'IA': 'Iowa',\n",
    "        'ID': 'Idaho',\n",
    "        'IL': 'Illinois',\n",
    "        'IN': 'Indiana',\n",
    "        'KS': 'Kansas',\n",
    "        'KY': 'Kentucky',\n",
    "        'LA': 'Louisiana',\n",
    "        'MA': 'Massachusetts',\n",
    "        'MD': 'Maryland',\n",
    "        'ME': 'Maine',\n",
    "        'MI': 'Michigan',\n",
    "        'MN': 'Minnesota',\n",
    "        'MO': 'Missouri',\n",
    "        'MP': 'Northern Mariana Islands',\n",
    "        'MS': 'Mississippi',\n",
    "        'MT': 'Montana',\n",
    "        'NA': 'National',\n",
    "        'NC': 'North Carolina',\n",
    "        'ND': 'North Dakota',\n",
    "        'NE': 'Nebraska',\n",
    "        'NH': 'New Hampshire',\n",
    "        'NJ': 'New Jersey',\n",
    "        'NM': 'New Mexico',\n",
    "        'NV': 'Nevada',\n",
    "        'NY': 'New York',\n",
    "        'OH': 'Ohio',\n",
    "        'OK': 'Oklahoma',\n",
    "        'OR': 'Oregon',\n",
    "        'PA': 'Pennsylvania',\n",
    "        'PR': 'Puerto Rico',\n",
    "        'RI': 'Rhode Island',\n",
    "        'SC': 'South Carolina',\n",
    "        'SD': 'South Dakota',\n",
    "        'TN': 'Tennessee',\n",
    "        'TX': 'Texas',\n",
    "        'UT': 'Utah',\n",
    "        'VA': 'Virginia',\n",
    "        'VI': 'Virgin Islands',\n",
    "        'VT': 'Vermont',\n",
    "        'WA': 'Washington',\n",
    "        'WI': 'Wisconsin',\n",
    "        'WV': 'West Virginia',\n",
    "        'WY': 'Wyoming'\n",
    "}"
   ]
  },
  {
   "cell_type": "code",
   "execution_count": 689,
   "metadata": {},
   "outputs": [],
   "source": [
    "df_states = pd.DataFrame(list(states.items()), columns=['Abbr State', 'State'])"
   ]
  },
  {
   "cell_type": "code",
   "execution_count": 691,
   "metadata": {},
   "outputs": [],
   "source": [
    "# join zhvi data with states data because it's abbreviated in zhvi data\n",
    "df_zhviCitiesJoined = pd.merge(df_zhviCities, df_states, left_on='State', right_on='Abbr State', how='left')"
   ]
  },
  {
   "cell_type": "code",
   "execution_count": 692,
   "metadata": {},
   "outputs": [
    {
     "data": {
      "text/html": [
       "<div>\n",
       "<style scoped>\n",
       "    .dataframe tbody tr th:only-of-type {\n",
       "        vertical-align: middle;\n",
       "    }\n",
       "\n",
       "    .dataframe tbody tr th {\n",
       "        vertical-align: top;\n",
       "    }\n",
       "\n",
       "    .dataframe thead th {\n",
       "        text-align: right;\n",
       "    }\n",
       "</style>\n",
       "<table border=\"1\" class=\"dataframe\">\n",
       "  <thead>\n",
       "    <tr style=\"text-align: right;\">\n",
       "      <th></th>\n",
       "      <th>RegionName</th>\n",
       "      <th>State_x</th>\n",
       "      <th>Zhvi</th>\n",
       "      <th>Abbr State</th>\n",
       "      <th>State_y</th>\n",
       "    </tr>\n",
       "  </thead>\n",
       "  <tbody>\n",
       "    <tr>\n",
       "      <th>0</th>\n",
       "      <td>New York</td>\n",
       "      <td>NY</td>\n",
       "      <td>677000</td>\n",
       "      <td>NY</td>\n",
       "      <td>New York</td>\n",
       "    </tr>\n",
       "    <tr>\n",
       "      <th>1</th>\n",
       "      <td>Los Angeles</td>\n",
       "      <td>CA</td>\n",
       "      <td>686100</td>\n",
       "      <td>CA</td>\n",
       "      <td>California</td>\n",
       "    </tr>\n",
       "    <tr>\n",
       "      <th>2</th>\n",
       "      <td>Houston</td>\n",
       "      <td>TX</td>\n",
       "      <td>186000</td>\n",
       "      <td>TX</td>\n",
       "      <td>Texas</td>\n",
       "    </tr>\n",
       "    <tr>\n",
       "      <th>3</th>\n",
       "      <td>Chicago</td>\n",
       "      <td>IL</td>\n",
       "      <td>229400</td>\n",
       "      <td>IL</td>\n",
       "      <td>Illinois</td>\n",
       "    </tr>\n",
       "    <tr>\n",
       "      <th>4</th>\n",
       "      <td>San Antonio</td>\n",
       "      <td>TX</td>\n",
       "      <td>176100</td>\n",
       "      <td>TX</td>\n",
       "      <td>Texas</td>\n",
       "    </tr>\n",
       "  </tbody>\n",
       "</table>\n",
       "</div>"
      ],
      "text/plain": [
       "    RegionName State_x    Zhvi Abbr State     State_y\n",
       "0     New York      NY  677000         NY    New York\n",
       "1  Los Angeles      CA  686100         CA  California\n",
       "2      Houston      TX  186000         TX       Texas\n",
       "3      Chicago      IL  229400         IL    Illinois\n",
       "4  San Antonio      TX  176100         TX       Texas"
      ]
     },
     "execution_count": 692,
     "metadata": {},
     "output_type": "execute_result"
    }
   ],
   "source": [
    "df_zhviCitiesJoined.head()"
   ]
  },
  {
   "cell_type": "markdown",
   "metadata": {},
   "source": [
    "Now that we have joined the data, it's important to check for any NaN values to make sure our join worked correctly. Luckily, there are none, so we may proceed.\n",
    "\n",
    "It's also important to remove un-needed columns and to update header names to make the data easier to work with."
   ]
  },
  {
   "cell_type": "code",
   "execution_count": 693,
   "metadata": {},
   "outputs": [
    {
     "data": {
      "text/plain": [
       "False"
      ]
     },
     "execution_count": 693,
     "metadata": {},
     "output_type": "execute_result"
    }
   ],
   "source": [
    "# any joins that didn't work? nope\n",
    "df_zhviCitiesJoined['State_y'].isnull().values.any()"
   ]
  },
  {
   "cell_type": "code",
   "execution_count": 694,
   "metadata": {},
   "outputs": [],
   "source": [
    "# let's remove unneeded/duplicate columns\n",
    "df_zhviCitiesJoined = df_zhviCitiesJoined.drop(columns = ['State_x', 'Abbr State'])"
   ]
  },
  {
   "cell_type": "code",
   "execution_count": 695,
   "metadata": {},
   "outputs": [],
   "source": [
    "# update header names. RegionName is City--from the zillow site\n",
    "df_zhviCitiesJoined = df_zhviCitiesJoined.rename(columns = {'RegionName': 'City', 'State_y': 'State'})"
   ]
  },
  {
   "cell_type": "code",
   "execution_count": 696,
   "metadata": {},
   "outputs": [
    {
     "data": {
      "text/html": [
       "<div>\n",
       "<style scoped>\n",
       "    .dataframe tbody tr th:only-of-type {\n",
       "        vertical-align: middle;\n",
       "    }\n",
       "\n",
       "    .dataframe tbody tr th {\n",
       "        vertical-align: top;\n",
       "    }\n",
       "\n",
       "    .dataframe thead th {\n",
       "        text-align: right;\n",
       "    }\n",
       "</style>\n",
       "<table border=\"1\" class=\"dataframe\">\n",
       "  <thead>\n",
       "    <tr style=\"text-align: right;\">\n",
       "      <th></th>\n",
       "      <th>City</th>\n",
       "      <th>Zhvi</th>\n",
       "      <th>State</th>\n",
       "    </tr>\n",
       "  </thead>\n",
       "  <tbody>\n",
       "    <tr>\n",
       "      <th>0</th>\n",
       "      <td>New York</td>\n",
       "      <td>677000</td>\n",
       "      <td>New York</td>\n",
       "    </tr>\n",
       "    <tr>\n",
       "      <th>1</th>\n",
       "      <td>Los Angeles</td>\n",
       "      <td>686100</td>\n",
       "      <td>California</td>\n",
       "    </tr>\n",
       "    <tr>\n",
       "      <th>2</th>\n",
       "      <td>Houston</td>\n",
       "      <td>186000</td>\n",
       "      <td>Texas</td>\n",
       "    </tr>\n",
       "    <tr>\n",
       "      <th>3</th>\n",
       "      <td>Chicago</td>\n",
       "      <td>229400</td>\n",
       "      <td>Illinois</td>\n",
       "    </tr>\n",
       "    <tr>\n",
       "      <th>4</th>\n",
       "      <td>San Antonio</td>\n",
       "      <td>176100</td>\n",
       "      <td>Texas</td>\n",
       "    </tr>\n",
       "  </tbody>\n",
       "</table>\n",
       "</div>"
      ],
      "text/plain": [
       "          City    Zhvi       State\n",
       "0     New York  677000    New York\n",
       "1  Los Angeles  686100  California\n",
       "2      Houston  186000       Texas\n",
       "3      Chicago  229400    Illinois\n",
       "4  San Antonio  176100       Texas"
      ]
     },
     "execution_count": 696,
     "metadata": {},
     "output_type": "execute_result"
    }
   ],
   "source": [
    "df_zhviCitiesJoined.head()"
   ]
  },
  {
   "cell_type": "code",
   "execution_count": 697,
   "metadata": {},
   "outputs": [],
   "source": [
    "# let's save over the old file\n",
    "df_zhviCitiesJoined.to_csv('zhviCities.csv',header=1,index=False)"
   ]
  },
  {
   "cell_type": "code",
   "execution_count": 698,
   "metadata": {},
   "outputs": [],
   "source": [
    "# let's load\n",
    "df_zhviCities = pd.read_csv('zhviCities.csv')"
   ]
  },
  {
   "cell_type": "markdown",
   "metadata": {},
   "source": [
    "### Okay, time to download (3) Wikipedia 'Household income in the United States' data."
   ]
  },
  {
   "cell_type": "code",
   "execution_count": 701,
   "metadata": {},
   "outputs": [],
   "source": [
    "html = wp.page('Household income in the United States').html().encode(\"UTF-8\") # returns HTML"
   ]
  },
  {
   "cell_type": "code",
   "execution_count": 704,
   "metadata": {},
   "outputs": [
    {
     "data": {
      "text/plain": [
       "[    0                                                  1\n",
       " 0 NaN  This article needs to be updated. Please updat...,\n",
       "                            Variable 1999 Previous Record 2007 Pre-Crisis Peak  \\\n",
       " 0  Real median household income[20]              $60,062              $59,534   \n",
       " \n",
       "   2012 Post-Crisis Trough 2016 Previous Record 2017 Record             2018  \n",
       " 0                 $54,569              $60,309     $61,372  Avail. Sept '19  ,\n",
       "       Ethnic category Mean household income\n",
       " 0         Asian alone              $114,105\n",
       " 1         White alone               $89,632\n",
       " 2  Hispanic or Latino               $68,319\n",
       " 3               Black               $58,985,\n",
       "     0                                                  1\n",
       " 0 NaN  This article needs to be updated. Please updat...]"
      ]
     },
     "execution_count": 704,
     "metadata": {},
     "output_type": "execute_result"
    }
   ],
   "source": [
    "# pandas reads html tables into a list of DataFrame objects. perfect for what we're trying to do\n",
    "pd.read_html(html)[:4]\n",
    "\n",
    "\n"
   ]
  },
  {
   "cell_type": "code",
   "execution_count": 707,
   "metadata": {},
   "outputs": [],
   "source": [
    "df = pd.read_html(html)[7] # set variable for the dataframe. the seventh element is our table of interest -- median household income"
   ]
  },
  {
   "cell_type": "code",
   "execution_count": 708,
   "metadata": {},
   "outputs": [],
   "source": [
    "df.to_csv('medianIncome.csv',header=1,index=False) # save to csv"
   ]
  },
  {
   "cell_type": "code",
   "execution_count": 709,
   "metadata": {},
   "outputs": [],
   "source": [
    "df_medianIncome = pd.read_csv('medianIncome.csv') # load csv"
   ]
  },
  {
   "cell_type": "code",
   "execution_count": 713,
   "metadata": {},
   "outputs": [],
   "source": [
    "# let's only keep the columns we need, so take most recent household income value\n",
    "df_medianIncome = df_medianIncome[['State', '2017']]"
   ]
  },
  {
   "cell_type": "markdown",
   "metadata": {},
   "source": [
    "## Step II. Join the Data"
   ]
  },
  {
   "cell_type": "markdown",
   "metadata": {},
   "source": [
    "### First, let's join (2) 'Zillow Home Value Index' data with (3) Wikipedia 'Household income in the United States' data to form a 'supplemental' data frame (the 'populous cities' data frame is the 'main' data frame).\n",
    "\n"
   ]
  },
  {
   "cell_type": "code",
   "execution_count": 716,
   "metadata": {},
   "outputs": [],
   "source": [
    "# join zhvi data with income data--this is supplemental data, wikipedia populous cities data is the main data \n",
    "\n",
    "df_supplemental = pd.merge(df_zhviCities, df_medianIncome, on='State', how='left')"
   ]
  },
  {
   "cell_type": "code",
   "execution_count": 717,
   "metadata": {},
   "outputs": [
    {
     "data": {
      "text/html": [
       "<div>\n",
       "<style scoped>\n",
       "    .dataframe tbody tr th:only-of-type {\n",
       "        vertical-align: middle;\n",
       "    }\n",
       "\n",
       "    .dataframe tbody tr th {\n",
       "        vertical-align: top;\n",
       "    }\n",
       "\n",
       "    .dataframe thead th {\n",
       "        text-align: right;\n",
       "    }\n",
       "</style>\n",
       "<table border=\"1\" class=\"dataframe\">\n",
       "  <thead>\n",
       "    <tr style=\"text-align: right;\">\n",
       "      <th></th>\n",
       "      <th>City</th>\n",
       "      <th>Zhvi</th>\n",
       "      <th>State</th>\n",
       "      <th>2017</th>\n",
       "    </tr>\n",
       "  </thead>\n",
       "  <tbody>\n",
       "    <tr>\n",
       "      <th>0</th>\n",
       "      <td>New York</td>\n",
       "      <td>677000</td>\n",
       "      <td>New York</td>\n",
       "      <td>$64,894</td>\n",
       "    </tr>\n",
       "    <tr>\n",
       "      <th>1</th>\n",
       "      <td>Los Angeles</td>\n",
       "      <td>686100</td>\n",
       "      <td>California</td>\n",
       "      <td>$71,805</td>\n",
       "    </tr>\n",
       "    <tr>\n",
       "      <th>2</th>\n",
       "      <td>Houston</td>\n",
       "      <td>186000</td>\n",
       "      <td>Texas</td>\n",
       "      <td>$59,206</td>\n",
       "    </tr>\n",
       "    <tr>\n",
       "      <th>3</th>\n",
       "      <td>Chicago</td>\n",
       "      <td>229400</td>\n",
       "      <td>Illinois</td>\n",
       "      <td>$62,992</td>\n",
       "    </tr>\n",
       "    <tr>\n",
       "      <th>4</th>\n",
       "      <td>San Antonio</td>\n",
       "      <td>176100</td>\n",
       "      <td>Texas</td>\n",
       "      <td>$59,206</td>\n",
       "    </tr>\n",
       "  </tbody>\n",
       "</table>\n",
       "</div>"
      ],
      "text/plain": [
       "          City    Zhvi       State     2017\n",
       "0     New York  677000    New York  $64,894\n",
       "1  Los Angeles  686100  California  $71,805\n",
       "2      Houston  186000       Texas  $59,206\n",
       "3      Chicago  229400    Illinois  $62,992\n",
       "4  San Antonio  176100       Texas  $59,206"
      ]
     },
     "execution_count": 717,
     "metadata": {},
     "output_type": "execute_result"
    }
   ],
   "source": [
    "df_supplemental.head()"
   ]
  },
  {
   "cell_type": "code",
   "execution_count": 718,
   "metadata": {},
   "outputs": [],
   "source": [
    "df_supplemental = df_supplemental.rename(columns={'2017': 'Median Income'})"
   ]
  },
  {
   "cell_type": "markdown",
   "metadata": {},
   "source": [
    "The join appears to have been properly executed, as there are no resulting NaN values."
   ]
  },
  {
   "cell_type": "code",
   "execution_count": 719,
   "metadata": {},
   "outputs": [
    {
     "data": {
      "text/plain": [
       "False"
      ]
     },
     "execution_count": 719,
     "metadata": {},
     "output_type": "execute_result"
    }
   ],
   "source": [
    "# any joins that didn't work? nope\n",
    "\n",
    "df_supplemental['Median Income'].isnull().values.any()"
   ]
  },
  {
   "cell_type": "markdown",
   "metadata": {},
   "source": [
    "The median income field needs to be changed from an 'object' data type to a 'float' data type."
   ]
  },
  {
   "cell_type": "code",
   "execution_count": 720,
   "metadata": {},
   "outputs": [
    {
     "data": {
      "text/plain": [
       "City             object\n",
       "Zhvi              int64\n",
       "State            object\n",
       "Median Income    object\n",
       "dtype: object"
      ]
     },
     "execution_count": 720,
     "metadata": {},
     "output_type": "execute_result"
    }
   ],
   "source": [
    "# are the data types correct? no, we need to update median income\n",
    "df_supplemental.dtypes"
   ]
  },
  {
   "cell_type": "code",
   "execution_count": 721,
   "metadata": {},
   "outputs": [],
   "source": [
    "df_supplemental['Median Income'] = df_supplemental['Median Income'].apply(lambda x: x.replace('$', '').replace(',', '')).astype('float')\n"
   ]
  },
  {
   "cell_type": "code",
   "execution_count": 722,
   "metadata": {},
   "outputs": [
    {
     "data": {
      "text/plain": [
       "City              object\n",
       "Zhvi               int64\n",
       "State             object\n",
       "Median Income    float64\n",
       "dtype: object"
      ]
     },
     "execution_count": 722,
     "metadata": {},
     "output_type": "execute_result"
    }
   ],
   "source": [
    "df_supplemental.dtypes"
   ]
  },
  {
   "cell_type": "code",
   "execution_count": 723,
   "metadata": {},
   "outputs": [],
   "source": [
    "# save to csv\n",
    "df_supplemental.to_csv('supplemental.csv',header=1,index=False) # save to csv"
   ]
  },
  {
   "cell_type": "code",
   "execution_count": 724,
   "metadata": {},
   "outputs": [],
   "source": [
    "df_supplemental = pd.read_csv('supplemental.csv')"
   ]
  },
  {
   "cell_type": "markdown",
   "metadata": {},
   "source": [
    "### Now, let's join the 'supplemental' data frame with the 'main' (1) Wikipedia 'List of United States cities by population' data frame."
   ]
  },
  {
   "cell_type": "code",
   "execution_count": 726,
   "metadata": {},
   "outputs": [],
   "source": [
    "df_topCitiesJoined = pd.merge(df_topCities, df_supplemental, on=['City', 'State'], how='left')"
   ]
  },
  {
   "cell_type": "markdown",
   "metadata": {},
   "source": [
    "Unfortunately, there appears to be NaN values resulting from the join, so we will have to investigate what went wrong with our join."
   ]
  },
  {
   "cell_type": "code",
   "execution_count": 729,
   "metadata": {},
   "outputs": [
    {
     "data": {
      "text/plain": [
       "True"
      ]
     },
     "execution_count": 729,
     "metadata": {},
     "output_type": "execute_result"
    }
   ],
   "source": [
    "# check for NaN values\n",
    "df_topCitiesJoined[['Zhvi', 'Median Income']].isnull().values.any()"
   ]
  },
  {
   "cell_type": "markdown",
   "metadata": {},
   "source": [
    "The following records did not join properly:"
   ]
  },
  {
   "cell_type": "code",
   "execution_count": 731,
   "metadata": {},
   "outputs": [
    {
     "data": {
      "text/html": [
       "<div>\n",
       "<style scoped>\n",
       "    .dataframe tbody tr th:only-of-type {\n",
       "        vertical-align: middle;\n",
       "    }\n",
       "\n",
       "    .dataframe tbody tr th {\n",
       "        vertical-align: top;\n",
       "    }\n",
       "\n",
       "    .dataframe thead th {\n",
       "        text-align: right;\n",
       "    }\n",
       "</style>\n",
       "<table border=\"1\" class=\"dataframe\">\n",
       "  <thead>\n",
       "    <tr style=\"text-align: right;\">\n",
       "      <th></th>\n",
       "      <th>2018rank</th>\n",
       "      <th>City</th>\n",
       "      <th>State</th>\n",
       "      <th>2018estimate</th>\n",
       "      <th>2010Census</th>\n",
       "      <th>2016 land area (sq mi)</th>\n",
       "      <th>2016 population density (sq mi)</th>\n",
       "      <th>Zhvi</th>\n",
       "      <th>Median Income</th>\n",
       "    </tr>\n",
       "  </thead>\n",
       "  <tbody>\n",
       "    <tr>\n",
       "      <th>0</th>\n",
       "      <td>1</td>\n",
       "      <td>New York City</td>\n",
       "      <td>New York</td>\n",
       "      <td>8398748</td>\n",
       "      <td>8175133</td>\n",
       "      <td>301.5</td>\n",
       "      <td>28317.0</td>\n",
       "      <td>NaN</td>\n",
       "      <td>NaN</td>\n",
       "    </tr>\n",
       "    <tr>\n",
       "      <th>19</th>\n",
       "      <td>20</td>\n",
       "      <td>Washington, D.C.</td>\n",
       "      <td>District of Columbia</td>\n",
       "      <td>702455</td>\n",
       "      <td>601723</td>\n",
       "      <td>61.1</td>\n",
       "      <td>11148.0</td>\n",
       "      <td>NaN</td>\n",
       "      <td>NaN</td>\n",
       "    </tr>\n",
       "    <tr>\n",
       "      <th>22</th>\n",
       "      <td>23</td>\n",
       "      <td>Detroit</td>\n",
       "      <td>Michigan</td>\n",
       "      <td>672662</td>\n",
       "      <td>713777</td>\n",
       "      <td>138.8</td>\n",
       "      <td>4847.0</td>\n",
       "      <td>NaN</td>\n",
       "      <td>NaN</td>\n",
       "    </tr>\n",
       "    <tr>\n",
       "      <th>63</th>\n",
       "      <td>64</td>\n",
       "      <td>St. Louis</td>\n",
       "      <td>Missouri</td>\n",
       "      <td>302838</td>\n",
       "      <td>319294</td>\n",
       "      <td>62.0</td>\n",
       "      <td>5023.0</td>\n",
       "      <td>NaN</td>\n",
       "      <td>NaN</td>\n",
       "    </tr>\n",
       "    <tr>\n",
       "      <th>78</th>\n",
       "      <td>79</td>\n",
       "      <td>St. Petersburg</td>\n",
       "      <td>Florida</td>\n",
       "      <td>265098</td>\n",
       "      <td>244769</td>\n",
       "      <td>61.8</td>\n",
       "      <td>4223.0</td>\n",
       "      <td>NaN</td>\n",
       "      <td>NaN</td>\n",
       "    </tr>\n",
       "    <tr>\n",
       "      <th>88</th>\n",
       "      <td>89</td>\n",
       "      <td>WinstonâSalem</td>\n",
       "      <td>North Carolina</td>\n",
       "      <td>246328</td>\n",
       "      <td>229617</td>\n",
       "      <td>132.5</td>\n",
       "      <td>1828.0</td>\n",
       "      <td>NaN</td>\n",
       "      <td>NaN</td>\n",
       "    </tr>\n",
       "    <tr>\n",
       "      <th>106</th>\n",
       "      <td>107</td>\n",
       "      <td>Birmingham</td>\n",
       "      <td>Alabama</td>\n",
       "      <td>209880</td>\n",
       "      <td>212237</td>\n",
       "      <td>146.1</td>\n",
       "      <td>1452.0</td>\n",
       "      <td>NaN</td>\n",
       "      <td>NaN</td>\n",
       "    </tr>\n",
       "    <tr>\n",
       "      <th>124</th>\n",
       "      <td>123</td>\n",
       "      <td>Augusta</td>\n",
       "      <td>Georgia</td>\n",
       "      <td>196939</td>\n",
       "      <td>195844</td>\n",
       "      <td>302.5</td>\n",
       "      <td>652.0</td>\n",
       "      <td>NaN</td>\n",
       "      <td>NaN</td>\n",
       "    </tr>\n",
       "    <tr>\n",
       "      <th>125</th>\n",
       "      <td>124</td>\n",
       "      <td>Port St. Lucie</td>\n",
       "      <td>Florida</td>\n",
       "      <td>195248</td>\n",
       "      <td>164603</td>\n",
       "      <td>118.9</td>\n",
       "      <td>1557.0</td>\n",
       "      <td>NaN</td>\n",
       "      <td>NaN</td>\n",
       "    </tr>\n",
       "    <tr>\n",
       "      <th>134</th>\n",
       "      <td>133</td>\n",
       "      <td>Shreveport</td>\n",
       "      <td>Louisiana</td>\n",
       "      <td>188987</td>\n",
       "      <td>199311</td>\n",
       "      <td>107.1</td>\n",
       "      <td>1820.0</td>\n",
       "      <td>NaN</td>\n",
       "      <td>NaN</td>\n",
       "    </tr>\n",
       "    <tr>\n",
       "      <th>159</th>\n",
       "      <td>158</td>\n",
       "      <td>Jackson</td>\n",
       "      <td>Mississippi</td>\n",
       "      <td>164422</td>\n",
       "      <td>173514</td>\n",
       "      <td>111.0</td>\n",
       "      <td>1524.0</td>\n",
       "      <td>NaN</td>\n",
       "      <td>NaN</td>\n",
       "    </tr>\n",
       "    <tr>\n",
       "      <th>160</th>\n",
       "      <td>159</td>\n",
       "      <td>Alexandria</td>\n",
       "      <td>Virginia</td>\n",
       "      <td>160530</td>\n",
       "      <td>139966</td>\n",
       "      <td>15.0</td>\n",
       "      <td>10387.0</td>\n",
       "      <td>NaN</td>\n",
       "      <td>NaN</td>\n",
       "    </tr>\n",
       "    <tr>\n",
       "      <th>281</th>\n",
       "      <td>280</td>\n",
       "      <td>Jurupa Valley</td>\n",
       "      <td>California</td>\n",
       "      <td>108393</td>\n",
       "      <td>0</td>\n",
       "      <td>42.9</td>\n",
       "      <td>2414.0</td>\n",
       "      <td>NaN</td>\n",
       "      <td>NaN</td>\n",
       "    </tr>\n",
       "    <tr>\n",
       "      <th>308</th>\n",
       "      <td>306</td>\n",
       "      <td>South Bend</td>\n",
       "      <td>Indiana</td>\n",
       "      <td>101860</td>\n",
       "      <td>101168</td>\n",
       "      <td>41.4</td>\n",
       "      <td>2457.0</td>\n",
       "      <td>NaN</td>\n",
       "      <td>NaN</td>\n",
       "    </tr>\n",
       "  </tbody>\n",
       "</table>\n",
       "</div>"
      ],
      "text/plain": [
       "     2018rank              City                 State  2018estimate  \\\n",
       "0           1     New York City              New York       8398748   \n",
       "19         20  Washington, D.C.  District of Columbia        702455   \n",
       "22         23           Detroit              Michigan        672662   \n",
       "63         64         St. Louis              Missouri        302838   \n",
       "78         79    St. Petersburg               Florida        265098   \n",
       "88         89   WinstonâSalem        North Carolina        246328   \n",
       "106       107        Birmingham               Alabama        209880   \n",
       "124       123           Augusta               Georgia        196939   \n",
       "125       124    Port St. Lucie               Florida        195248   \n",
       "134       133        Shreveport             Louisiana        188987   \n",
       "159       158           Jackson           Mississippi        164422   \n",
       "160       159        Alexandria              Virginia        160530   \n",
       "281       280     Jurupa Valley            California        108393   \n",
       "308       306        South Bend               Indiana        101860   \n",
       "\n",
       "     2010Census  2016 land area (sq mi)  2016 population density (sq mi)  \\\n",
       "0       8175133                   301.5                          28317.0   \n",
       "19       601723                    61.1                          11148.0   \n",
       "22       713777                   138.8                           4847.0   \n",
       "63       319294                    62.0                           5023.0   \n",
       "78       244769                    61.8                           4223.0   \n",
       "88       229617                   132.5                           1828.0   \n",
       "106      212237                   146.1                           1452.0   \n",
       "124      195844                   302.5                            652.0   \n",
       "125      164603                   118.9                           1557.0   \n",
       "134      199311                   107.1                           1820.0   \n",
       "159      173514                   111.0                           1524.0   \n",
       "160      139966                    15.0                          10387.0   \n",
       "281           0                    42.9                           2414.0   \n",
       "308      101168                    41.4                           2457.0   \n",
       "\n",
       "     Zhvi  Median Income  \n",
       "0     NaN            NaN  \n",
       "19    NaN            NaN  \n",
       "22    NaN            NaN  \n",
       "63    NaN            NaN  \n",
       "78    NaN            NaN  \n",
       "88    NaN            NaN  \n",
       "106   NaN            NaN  \n",
       "124   NaN            NaN  \n",
       "125   NaN            NaN  \n",
       "134   NaN            NaN  \n",
       "159   NaN            NaN  \n",
       "160   NaN            NaN  \n",
       "281   NaN            NaN  \n",
       "308   NaN            NaN  "
      ]
     },
     "execution_count": 731,
     "metadata": {},
     "output_type": "execute_result"
    }
   ],
   "source": [
    "# which city/state combinations did not join well\n",
    "df_topCitiesJoined[df_topCitiesJoined.isna().any(axis=1)]"
   ]
  },
  {
   "cell_type": "markdown",
   "metadata": {},
   "source": [
    "Below is code used to investigate the above records. It appears that the joins did not properly execute because: i) the 'City' value in the 'supplemental' table was spelled differently than the 'City' value in the 'main' table, or ii) the 'City' value in the 'main' table was not found in the 'supplemental' table. \n",
    "\n",
    "For case i, let's update the 'supplemental' table spelling to match the 'main' table spelling.\n",
    "\n",
    "For case ii, let's take a 'supplemental' table city that's nearby the 'main' table city, and replace the 'supplemental' table city with the 'main' table city--we will essentially use a nearby city's median household income as an estimate for the 'main' table city's median household income."
   ]
  },
  {
   "cell_type": "code",
   "execution_count": 732,
   "metadata": {},
   "outputs": [
    {
     "data": {
      "text/html": [
       "<div>\n",
       "<style scoped>\n",
       "    .dataframe tbody tr th:only-of-type {\n",
       "        vertical-align: middle;\n",
       "    }\n",
       "\n",
       "    .dataframe tbody tr th {\n",
       "        vertical-align: top;\n",
       "    }\n",
       "\n",
       "    .dataframe thead th {\n",
       "        text-align: right;\n",
       "    }\n",
       "</style>\n",
       "<table border=\"1\" class=\"dataframe\">\n",
       "  <thead>\n",
       "    <tr style=\"text-align: right;\">\n",
       "      <th></th>\n",
       "      <th>City</th>\n",
       "      <th>Zhvi</th>\n",
       "      <th>State</th>\n",
       "      <th>Median Income</th>\n",
       "    </tr>\n",
       "  </thead>\n",
       "  <tbody>\n",
       "    <tr>\n",
       "      <th>478</th>\n",
       "      <td>Georgetown</td>\n",
       "      <td>297100</td>\n",
       "      <td>Texas</td>\n",
       "      <td>59206.0</td>\n",
       "    </tr>\n",
       "    <tr>\n",
       "      <th>1177</th>\n",
       "      <td>Georgetown</td>\n",
       "      <td>190800</td>\n",
       "      <td>Kentucky</td>\n",
       "      <td>48375.0</td>\n",
       "    </tr>\n",
       "    <tr>\n",
       "      <th>2221</th>\n",
       "      <td>Georgetown</td>\n",
       "      <td>135100</td>\n",
       "      <td>South Carolina</td>\n",
       "      <td>50570.0</td>\n",
       "    </tr>\n",
       "    <tr>\n",
       "      <th>4353</th>\n",
       "      <td>Georgetown</td>\n",
       "      <td>208700</td>\n",
       "      <td>Indiana</td>\n",
       "      <td>54181.0</td>\n",
       "    </tr>\n",
       "    <tr>\n",
       "      <th>4868</th>\n",
       "      <td>Georgetown</td>\n",
       "      <td>110200</td>\n",
       "      <td>Ohio</td>\n",
       "      <td>54021.0</td>\n",
       "    </tr>\n",
       "    <tr>\n",
       "      <th>5269</th>\n",
       "      <td>Georgetown</td>\n",
       "      <td>474100</td>\n",
       "      <td>Massachusetts</td>\n",
       "      <td>77385.0</td>\n",
       "    </tr>\n",
       "    <tr>\n",
       "      <th>7725</th>\n",
       "      <td>Georgetown</td>\n",
       "      <td>54200</td>\n",
       "      <td>Illinois</td>\n",
       "      <td>62992.0</td>\n",
       "    </tr>\n",
       "    <tr>\n",
       "      <th>8513</th>\n",
       "      <td>Georgetown</td>\n",
       "      <td>190000</td>\n",
       "      <td>Tennessee</td>\n",
       "      <td>51340.0</td>\n",
       "    </tr>\n",
       "    <tr>\n",
       "      <th>9817</th>\n",
       "      <td>Georgetown</td>\n",
       "      <td>364400</td>\n",
       "      <td>California</td>\n",
       "      <td>71805.0</td>\n",
       "    </tr>\n",
       "    <tr>\n",
       "      <th>11804</th>\n",
       "      <td>Georgetown</td>\n",
       "      <td>311300</td>\n",
       "      <td>Colorado</td>\n",
       "      <td>69117.0</td>\n",
       "    </tr>\n",
       "  </tbody>\n",
       "</table>\n",
       "</div>"
      ],
      "text/plain": [
       "             City    Zhvi           State  Median Income\n",
       "478    Georgetown  297100           Texas        59206.0\n",
       "1177   Georgetown  190800        Kentucky        48375.0\n",
       "2221   Georgetown  135100  South Carolina        50570.0\n",
       "4353   Georgetown  208700         Indiana        54181.0\n",
       "4868   Georgetown  110200            Ohio        54021.0\n",
       "5269   Georgetown  474100   Massachusetts        77385.0\n",
       "7725   Georgetown   54200        Illinois        62992.0\n",
       "8513   Georgetown  190000       Tennessee        51340.0\n",
       "9817   Georgetown  364400      California        71805.0\n",
       "11804  Georgetown  311300        Colorado        69117.0"
      ]
     },
     "execution_count": 732,
     "metadata": {},
     "output_type": "execute_result"
    }
   ],
   "source": [
    "# for new york, looks like we have to modify the supplemental 'New York' to 'New York City'\n",
    "df_supplemental[df_supplemental['City'].str.find('New York') == 0]\n",
    "# for washington, we'll have to modify 'Washington' to 'Washington, D.C.'\n",
    "df_supplemental[df_supplemental['City'].str.find('Washington') == 0]\n",
    "# 'detroit beach' to 'Detroit'\n",
    "df_supplemental[df_supplemental['City'].str.find('Detroit') == 0]\n",
    "# 'Saint Louis' to 'St. Louis'\n",
    "df_supplemental[df_supplemental['City'].str.find('Saint') == 0]\n",
    "# Saint Petersburg to 'St. Petersburg'\n",
    "df_supplemental[df_supplemental['City'].str.find('Saint Petersburg') == 0]\n",
    "# error in main table 'WinstonâSalem' to 'Winston-Salem'\n",
    "df_supplemental[df_supplemental['City'].str.find('Winston') == 0]\n",
    "# 'Homewood' to 'Birmingham' (Alabama)\n",
    "df_supplemental[df_supplemental['State'].str.find('Alabama') == 0].sort_values('City') # no birmingham\n",
    "df_supplemental[df_supplemental['City'].str.find('Homewood') == 0] # homewood is close\n",
    "# 'Martinez' is close to 'Augusta' (Georgia)\n",
    "df_supplemental[df_supplemental['City'].str.find('Martinez') == 0]\n",
    "# 'Port Saint Lucie' to 'Port St. Lucie' (Florida)\n",
    "df_supplemental[df_supplemental['City'].str.find('Port') == 0]\n",
    "# 'Keithville' to 'Shreveport' (LA)\n",
    "df_supplemental[df_supplemental['City'].str.find('Keithville') == 0]\n",
    "# Richland to 'Jackson' (MS)\n",
    "df_supplemental[df_supplemental['City'].str.find('Richland') == 0]\n",
    "# 'Arlington' to Alexandria' (VA)\n",
    "df_supplemental[df_supplemental['City'].str.find('Arlington') == 0]\n",
    "# 'Glen Avon' to 'Jurupa Valley' (CA)\n",
    "df_supplemental[df_supplemental['City'].str.find('Glen Avon') == 0]\n",
    "# 'Georgetown' to 'South Bend' (IN)\n",
    "df_supplemental[df_supplemental['City'].str.find('Georgetown') == 0]"
   ]
  },
  {
   "cell_type": "code",
   "execution_count": 733,
   "metadata": {},
   "outputs": [],
   "source": [
    "# this code updates the data frames in response to the above join errors\n",
    "df_supplemental.at[0, 'City'] = 'New York City'\n",
    "df_supplemental.at[26, 'City'] = 'Washington, D.C.'\n",
    "df_supplemental.at[10830, 'City'] = 'Detroit'\n",
    "df_supplemental.at[67, 'City'] = 'St. Louis'\n",
    "df_supplemental.at[94, 'City'] = 'St. Petersburg'\n",
    "df_topCities.at[88, 'City'] = 'Winston-Salem' # df_topCities has error\n",
    "df_supplemental.at[2145, 'City'] = 'Birmingham'\n",
    "df_supplemental.at[1255, 'City'] = 'Augusta'\n",
    "df_supplemental.at[146, 'City'] = 'Port St. Lucie'\n",
    "df_supplemental.at[4373, 'City'] = 'Shreveport'\n",
    "df_supplemental.at[6736, 'City'] = 'Jackson'\n",
    "df_supplemental.at[117, 'City'] = 'Alexandria'\n",
    "df_supplemental.at[3374, 'City'] = 'Jurupa Valley'\n",
    "df_supplemental.at[4353, 'City'] = 'South Bend'"
   ]
  },
  {
   "cell_type": "markdown",
   "metadata": {},
   "source": [
    "Let's rejoin the data based on our fixes. There are no join errors this time, so we are ready to move on to the next step!"
   ]
  },
  {
   "cell_type": "code",
   "execution_count": 734,
   "metadata": {},
   "outputs": [],
   "source": [
    "# let's rejoin\n",
    "df_topCitiesJoined = pd.merge(df_topCities, df_supplemental, on=['City', 'State'], how='left')"
   ]
  },
  {
   "cell_type": "code",
   "execution_count": 736,
   "metadata": {},
   "outputs": [
    {
     "data": {
      "text/plain": [
       "False"
      ]
     },
     "execution_count": 736,
     "metadata": {},
     "output_type": "execute_result"
    }
   ],
   "source": [
    "# any errors this time? no? great!\n",
    "df_topCitiesJoined[['Zhvi', 'Median Income']].isnull().values.any()"
   ]
  },
  {
   "cell_type": "markdown",
   "metadata": {},
   "source": [
    "## Step III. Analyze the Data"
   ]
  },
  {
   "cell_type": "markdown",
   "metadata": {},
   "source": [
    "Now that we have joined the data, let's see which cities have the highest \"Cost Score\" (see top of notebook for \"Cost Score\" equation). "
   ]
  },
  {
   "cell_type": "code",
   "execution_count": 738,
   "metadata": {},
   "outputs": [],
   "source": [
    "# create 'Cost Score' field\n",
    "df_topCitiesJoined['Cost Score'] = df_topCitiesJoined['Zhvi'] / df_topCitiesJoined['Median Income'] "
   ]
  },
  {
   "cell_type": "code",
   "execution_count": 739,
   "metadata": {},
   "outputs": [
    {
     "data": {
      "text/html": [
       "<div>\n",
       "<style scoped>\n",
       "    .dataframe tbody tr th:only-of-type {\n",
       "        vertical-align: middle;\n",
       "    }\n",
       "\n",
       "    .dataframe tbody tr th {\n",
       "        vertical-align: top;\n",
       "    }\n",
       "\n",
       "    .dataframe thead th {\n",
       "        text-align: right;\n",
       "    }\n",
       "</style>\n",
       "<table border=\"1\" class=\"dataframe\">\n",
       "  <thead>\n",
       "    <tr style=\"text-align: right;\">\n",
       "      <th></th>\n",
       "      <th>2018rank</th>\n",
       "      <th>City</th>\n",
       "      <th>State</th>\n",
       "      <th>2018estimate</th>\n",
       "      <th>2010Census</th>\n",
       "      <th>2016 land area (sq mi)</th>\n",
       "      <th>2016 population density (sq mi)</th>\n",
       "      <th>Zhvi</th>\n",
       "      <th>Median Income</th>\n",
       "      <th>Cost Score</th>\n",
       "    </tr>\n",
       "  </thead>\n",
       "  <tbody>\n",
       "    <tr>\n",
       "      <th>0</th>\n",
       "      <td>1</td>\n",
       "      <td>New York City</td>\n",
       "      <td>New York</td>\n",
       "      <td>8398748</td>\n",
       "      <td>8175133</td>\n",
       "      <td>301.5</td>\n",
       "      <td>28317.0</td>\n",
       "      <td>677000</td>\n",
       "      <td>64894.0</td>\n",
       "      <td>10.432397</td>\n",
       "    </tr>\n",
       "    <tr>\n",
       "      <th>1</th>\n",
       "      <td>2</td>\n",
       "      <td>Los Angeles</td>\n",
       "      <td>California</td>\n",
       "      <td>3990456</td>\n",
       "      <td>3792621</td>\n",
       "      <td>468.7</td>\n",
       "      <td>8484.0</td>\n",
       "      <td>686100</td>\n",
       "      <td>71805.0</td>\n",
       "      <td>9.555045</td>\n",
       "    </tr>\n",
       "    <tr>\n",
       "      <th>2</th>\n",
       "      <td>3</td>\n",
       "      <td>Chicago</td>\n",
       "      <td>Illinois</td>\n",
       "      <td>2705994</td>\n",
       "      <td>2695598</td>\n",
       "      <td>227.3</td>\n",
       "      <td>11900.0</td>\n",
       "      <td>229400</td>\n",
       "      <td>62992.0</td>\n",
       "      <td>3.641732</td>\n",
       "    </tr>\n",
       "    <tr>\n",
       "      <th>3</th>\n",
       "      <td>4</td>\n",
       "      <td>Houston</td>\n",
       "      <td>Texas</td>\n",
       "      <td>2325502</td>\n",
       "      <td>2100263</td>\n",
       "      <td>637.5</td>\n",
       "      <td>3613.0</td>\n",
       "      <td>186000</td>\n",
       "      <td>59206.0</td>\n",
       "      <td>3.141573</td>\n",
       "    </tr>\n",
       "    <tr>\n",
       "      <th>4</th>\n",
       "      <td>5</td>\n",
       "      <td>Phoenix</td>\n",
       "      <td>Arizona</td>\n",
       "      <td>1660272</td>\n",
       "      <td>1445632</td>\n",
       "      <td>517.6</td>\n",
       "      <td>3120.0</td>\n",
       "      <td>242600</td>\n",
       "      <td>56581.0</td>\n",
       "      <td>4.287658</td>\n",
       "    </tr>\n",
       "  </tbody>\n",
       "</table>\n",
       "</div>"
      ],
      "text/plain": [
       "   2018rank           City       State  2018estimate  2010Census  \\\n",
       "0         1  New York City    New York       8398748     8175133   \n",
       "1         2    Los Angeles  California       3990456     3792621   \n",
       "2         3        Chicago    Illinois       2705994     2695598   \n",
       "3         4        Houston       Texas       2325502     2100263   \n",
       "4         5        Phoenix     Arizona       1660272     1445632   \n",
       "\n",
       "   2016 land area (sq mi)  2016 population density (sq mi)    Zhvi  \\\n",
       "0                   301.5                          28317.0  677000   \n",
       "1                   468.7                           8484.0  686100   \n",
       "2                   227.3                          11900.0  229400   \n",
       "3                   637.5                           3613.0  186000   \n",
       "4                   517.6                           3120.0  242600   \n",
       "\n",
       "   Median Income  Cost Score  \n",
       "0        64894.0   10.432397  \n",
       "1        71805.0    9.555045  \n",
       "2        62992.0    3.641732  \n",
       "3        59206.0    3.141573  \n",
       "4        56581.0    4.287658  "
      ]
     },
     "execution_count": 739,
     "metadata": {},
     "output_type": "execute_result"
    }
   ],
   "source": [
    "df_topCitiesJoined.head()"
   ]
  },
  {
   "cell_type": "markdown",
   "metadata": {},
   "source": [
    "Next, let's create a \"Cost Rank\", with the most costly \"Cost Score\" value ranked first."
   ]
  },
  {
   "cell_type": "code",
   "execution_count": 740,
   "metadata": {},
   "outputs": [],
   "source": [
    "# create Cost Rank column\n",
    "df_topCitiesJoined['Cost Rank'] = df_topCitiesJoined['Cost Score'].rank(ascending=False)"
   ]
  },
  {
   "cell_type": "code",
   "execution_count": 746,
   "metadata": {},
   "outputs": [],
   "source": [
    "df_topCitiesJoined.to_csv('topCitiesJoined.csv',header=1,index=False) # save to csv"
   ]
  },
  {
   "cell_type": "markdown",
   "metadata": {},
   "source": [
    "Now, let's see which are the 10 costliest cities."
   ]
  },
  {
   "cell_type": "code",
   "execution_count": 742,
   "metadata": {},
   "outputs": [
    {
     "data": {
      "text/html": [
       "<div>\n",
       "<style scoped>\n",
       "    .dataframe tbody tr th:only-of-type {\n",
       "        vertical-align: middle;\n",
       "    }\n",
       "\n",
       "    .dataframe tbody tr th {\n",
       "        vertical-align: top;\n",
       "    }\n",
       "\n",
       "    .dataframe thead th {\n",
       "        text-align: right;\n",
       "    }\n",
       "</style>\n",
       "<table border=\"1\" class=\"dataframe\">\n",
       "  <thead>\n",
       "    <tr style=\"text-align: right;\">\n",
       "      <th></th>\n",
       "      <th>2018rank</th>\n",
       "      <th>City</th>\n",
       "      <th>State</th>\n",
       "      <th>2018estimate</th>\n",
       "      <th>2010Census</th>\n",
       "      <th>2016 land area (sq mi)</th>\n",
       "      <th>2016 population density (sq mi)</th>\n",
       "      <th>Zhvi</th>\n",
       "      <th>Median Income</th>\n",
       "      <th>Cost Score</th>\n",
       "      <th>Cost Rank</th>\n",
       "    </tr>\n",
       "  </thead>\n",
       "  <tbody>\n",
       "    <tr>\n",
       "      <th>170</th>\n",
       "      <td>169</td>\n",
       "      <td>Sunnyvale</td>\n",
       "      <td>California</td>\n",
       "      <td>153185</td>\n",
       "      <td>140081</td>\n",
       "      <td>22.0</td>\n",
       "      <td>6944.0</td>\n",
       "      <td>1713500</td>\n",
       "      <td>71805.0</td>\n",
       "      <td>23.863241</td>\n",
       "      <td>1.0</td>\n",
       "    </tr>\n",
       "    <tr>\n",
       "      <th>295</th>\n",
       "      <td>294</td>\n",
       "      <td>San Mateo</td>\n",
       "      <td>California</td>\n",
       "      <td>105025</td>\n",
       "      <td>97207</td>\n",
       "      <td>12.1</td>\n",
       "      <td>8592.0</td>\n",
       "      <td>1385800</td>\n",
       "      <td>71805.0</td>\n",
       "      <td>19.299492</td>\n",
       "      <td>2.0</td>\n",
       "    </tr>\n",
       "    <tr>\n",
       "      <th>14</th>\n",
       "      <td>15</td>\n",
       "      <td>San Francisco</td>\n",
       "      <td>California</td>\n",
       "      <td>883305</td>\n",
       "      <td>805235</td>\n",
       "      <td>46.9</td>\n",
       "      <td>18569.0</td>\n",
       "      <td>1357500</td>\n",
       "      <td>71805.0</td>\n",
       "      <td>18.905369</td>\n",
       "      <td>3.0</td>\n",
       "    </tr>\n",
       "    <tr>\n",
       "      <th>215</th>\n",
       "      <td>214</td>\n",
       "      <td>Santa Clara</td>\n",
       "      <td>California</td>\n",
       "      <td>129488</td>\n",
       "      <td>116468</td>\n",
       "      <td>18.4</td>\n",
       "      <td>6845.0</td>\n",
       "      <td>1305100</td>\n",
       "      <td>71805.0</td>\n",
       "      <td>18.175615</td>\n",
       "      <td>4.0</td>\n",
       "    </tr>\n",
       "    <tr>\n",
       "      <th>233</th>\n",
       "      <td>232</td>\n",
       "      <td>Berkeley</td>\n",
       "      <td>California</td>\n",
       "      <td>121643</td>\n",
       "      <td>112580</td>\n",
       "      <td>10.5</td>\n",
       "      <td>11547.0</td>\n",
       "      <td>1217700</td>\n",
       "      <td>71805.0</td>\n",
       "      <td>16.958429</td>\n",
       "      <td>5.0</td>\n",
       "    </tr>\n",
       "    <tr>\n",
       "      <th>95</th>\n",
       "      <td>96</td>\n",
       "      <td>Fremont</td>\n",
       "      <td>California</td>\n",
       "      <td>237807</td>\n",
       "      <td>214089</td>\n",
       "      <td>77.5</td>\n",
       "      <td>3008.0</td>\n",
       "      <td>1120700</td>\n",
       "      <td>71805.0</td>\n",
       "      <td>15.607548</td>\n",
       "      <td>6.0</td>\n",
       "    </tr>\n",
       "    <tr>\n",
       "      <th>9</th>\n",
       "      <td>10</td>\n",
       "      <td>San Jose</td>\n",
       "      <td>California</td>\n",
       "      <td>1030119</td>\n",
       "      <td>945942</td>\n",
       "      <td>177.5</td>\n",
       "      <td>5777.0</td>\n",
       "      <td>1039700</td>\n",
       "      <td>71805.0</td>\n",
       "      <td>14.479493</td>\n",
       "      <td>7.0</td>\n",
       "    </tr>\n",
       "    <tr>\n",
       "      <th>301</th>\n",
       "      <td>299</td>\n",
       "      <td>Burbank</td>\n",
       "      <td>California</td>\n",
       "      <td>103695</td>\n",
       "      <td>103340</td>\n",
       "      <td>17.4</td>\n",
       "      <td>6003.0</td>\n",
       "      <td>992200</td>\n",
       "      <td>71805.0</td>\n",
       "      <td>13.817979</td>\n",
       "      <td>8.0</td>\n",
       "    </tr>\n",
       "    <tr>\n",
       "      <th>287</th>\n",
       "      <td>286</td>\n",
       "      <td>Daly City</td>\n",
       "      <td>California</td>\n",
       "      <td>107008</td>\n",
       "      <td>101123</td>\n",
       "      <td>7.6</td>\n",
       "      <td>14009.0</td>\n",
       "      <td>962500</td>\n",
       "      <td>71805.0</td>\n",
       "      <td>13.404359</td>\n",
       "      <td>9.0</td>\n",
       "    </tr>\n",
       "    <tr>\n",
       "      <th>178</th>\n",
       "      <td>177</td>\n",
       "      <td>Bellevue</td>\n",
       "      <td>Washington</td>\n",
       "      <td>147599</td>\n",
       "      <td>122363</td>\n",
       "      <td>33.5</td>\n",
       "      <td>4221.0</td>\n",
       "      <td>919800</td>\n",
       "      <td>70979.0</td>\n",
       "      <td>12.958762</td>\n",
       "      <td>10.0</td>\n",
       "    </tr>\n",
       "  </tbody>\n",
       "</table>\n",
       "</div>"
      ],
      "text/plain": [
       "     2018rank           City       State  2018estimate  2010Census  \\\n",
       "170       169      Sunnyvale  California        153185      140081   \n",
       "295       294      San Mateo  California        105025       97207   \n",
       "14         15  San Francisco  California        883305      805235   \n",
       "215       214    Santa Clara  California        129488      116468   \n",
       "233       232       Berkeley  California        121643      112580   \n",
       "95         96        Fremont  California        237807      214089   \n",
       "9          10       San Jose  California       1030119      945942   \n",
       "301       299        Burbank  California        103695      103340   \n",
       "287       286      Daly City  California        107008      101123   \n",
       "178       177       Bellevue  Washington        147599      122363   \n",
       "\n",
       "     2016 land area (sq mi)  2016 population density (sq mi)     Zhvi  \\\n",
       "170                    22.0                           6944.0  1713500   \n",
       "295                    12.1                           8592.0  1385800   \n",
       "14                     46.9                          18569.0  1357500   \n",
       "215                    18.4                           6845.0  1305100   \n",
       "233                    10.5                          11547.0  1217700   \n",
       "95                     77.5                           3008.0  1120700   \n",
       "9                     177.5                           5777.0  1039700   \n",
       "301                    17.4                           6003.0   992200   \n",
       "287                     7.6                          14009.0   962500   \n",
       "178                    33.5                           4221.0   919800   \n",
       "\n",
       "     Median Income  Cost Score  Cost Rank  \n",
       "170        71805.0   23.863241        1.0  \n",
       "295        71805.0   19.299492        2.0  \n",
       "14         71805.0   18.905369        3.0  \n",
       "215        71805.0   18.175615        4.0  \n",
       "233        71805.0   16.958429        5.0  \n",
       "95         71805.0   15.607548        6.0  \n",
       "9          71805.0   14.479493        7.0  \n",
       "301        71805.0   13.817979        8.0  \n",
       "287        71805.0   13.404359        9.0  \n",
       "178        70979.0   12.958762       10.0  "
      ]
     },
     "execution_count": 742,
     "metadata": {},
     "output_type": "execute_result"
    }
   ],
   "source": [
    "df_topCitiesJoined.nsmallest(10, 'Cost Rank')"
   ]
  },
  {
   "cell_type": "markdown",
   "metadata": {},
   "source": [
    "Looks like 9 out of the 10 costliest cities are in California! And only one--San Jose--of the 10 most populous cities is on this list! If you're looking for affordable living, you may want to look outside of California, and check out the most affordable cities below!"
   ]
  },
  {
   "cell_type": "code",
   "execution_count": 748,
   "metadata": {},
   "outputs": [
    {
     "data": {
      "text/html": [
       "<div>\n",
       "<style scoped>\n",
       "    .dataframe tbody tr th:only-of-type {\n",
       "        vertical-align: middle;\n",
       "    }\n",
       "\n",
       "    .dataframe tbody tr th {\n",
       "        vertical-align: top;\n",
       "    }\n",
       "\n",
       "    .dataframe thead th {\n",
       "        text-align: right;\n",
       "    }\n",
       "</style>\n",
       "<table border=\"1\" class=\"dataframe\">\n",
       "  <thead>\n",
       "    <tr style=\"text-align: right;\">\n",
       "      <th></th>\n",
       "      <th>2018rank</th>\n",
       "      <th>City</th>\n",
       "      <th>State</th>\n",
       "      <th>2018estimate</th>\n",
       "      <th>2010Census</th>\n",
       "      <th>2016 land area (sq mi)</th>\n",
       "      <th>2016 population density (sq mi)</th>\n",
       "      <th>Zhvi</th>\n",
       "      <th>Median Income</th>\n",
       "      <th>Cost Score</th>\n",
       "      <th>Cost Rank</th>\n",
       "    </tr>\n",
       "  </thead>\n",
       "  <tbody>\n",
       "    <tr>\n",
       "      <th>191</th>\n",
       "      <td>190</td>\n",
       "      <td>Dayton</td>\n",
       "      <td>Ohio</td>\n",
       "      <td>140640</td>\n",
       "      <td>141527</td>\n",
       "      <td>55.7</td>\n",
       "      <td>2522.0</td>\n",
       "      <td>51800</td>\n",
       "      <td>54021.0</td>\n",
       "      <td>0.958886</td>\n",
       "      <td>317.0</td>\n",
       "    </tr>\n",
       "    <tr>\n",
       "      <th>51</th>\n",
       "      <td>52</td>\n",
       "      <td>Cleveland</td>\n",
       "      <td>Ohio</td>\n",
       "      <td>383793</td>\n",
       "      <td>396815</td>\n",
       "      <td>77.7</td>\n",
       "      <td>4965.0</td>\n",
       "      <td>55300</td>\n",
       "      <td>54021.0</td>\n",
       "      <td>1.023676</td>\n",
       "      <td>316.0</td>\n",
       "    </tr>\n",
       "    <tr>\n",
       "      <th>110</th>\n",
       "      <td>111</td>\n",
       "      <td>Rochester</td>\n",
       "      <td>New York</td>\n",
       "      <td>206284</td>\n",
       "      <td>210565</td>\n",
       "      <td>35.8</td>\n",
       "      <td>5835.0</td>\n",
       "      <td>75500</td>\n",
       "      <td>64894.0</td>\n",
       "      <td>1.163436</td>\n",
       "      <td>315.0</td>\n",
       "    </tr>\n",
       "    <tr>\n",
       "      <th>121</th>\n",
       "      <td>120</td>\n",
       "      <td>Akron</td>\n",
       "      <td>Ohio</td>\n",
       "      <td>198006</td>\n",
       "      <td>199110</td>\n",
       "      <td>62.0</td>\n",
       "      <td>3188.0</td>\n",
       "      <td>67000</td>\n",
       "      <td>54021.0</td>\n",
       "      <td>1.240258</td>\n",
       "      <td>314.0</td>\n",
       "    </tr>\n",
       "    <tr>\n",
       "      <th>73</th>\n",
       "      <td>74</td>\n",
       "      <td>Toledo</td>\n",
       "      <td>Ohio</td>\n",
       "      <td>274975</td>\n",
       "      <td>287208</td>\n",
       "      <td>80.7</td>\n",
       "      <td>3451.0</td>\n",
       "      <td>69600</td>\n",
       "      <td>54021.0</td>\n",
       "      <td>1.288388</td>\n",
       "      <td>313.0</td>\n",
       "    </tr>\n",
       "    <tr>\n",
       "      <th>82</th>\n",
       "      <td>83</td>\n",
       "      <td>Buffalo</td>\n",
       "      <td>New York</td>\n",
       "      <td>256304</td>\n",
       "      <td>261310</td>\n",
       "      <td>40.4</td>\n",
       "      <td>6359.0</td>\n",
       "      <td>86200</td>\n",
       "      <td>64894.0</td>\n",
       "      <td>1.328320</td>\n",
       "      <td>312.0</td>\n",
       "    </tr>\n",
       "    <tr>\n",
       "      <th>186</th>\n",
       "      <td>185</td>\n",
       "      <td>Syracuse</td>\n",
       "      <td>New York</td>\n",
       "      <td>142749</td>\n",
       "      <td>145170</td>\n",
       "      <td>25.0</td>\n",
       "      <td>5735.0</td>\n",
       "      <td>87000</td>\n",
       "      <td>64894.0</td>\n",
       "      <td>1.340648</td>\n",
       "      <td>311.0</td>\n",
       "    </tr>\n",
       "    <tr>\n",
       "      <th>179</th>\n",
       "      <td>178</td>\n",
       "      <td>Rockford</td>\n",
       "      <td>Illinois</td>\n",
       "      <td>146526</td>\n",
       "      <td>152871</td>\n",
       "      <td>63.5</td>\n",
       "      <td>2325.0</td>\n",
       "      <td>86400</td>\n",
       "      <td>62992.0</td>\n",
       "      <td>1.371603</td>\n",
       "      <td>310.0</td>\n",
       "    </tr>\n",
       "    <tr>\n",
       "      <th>270</th>\n",
       "      <td>269</td>\n",
       "      <td>Peoria</td>\n",
       "      <td>Illinois</td>\n",
       "      <td>111388</td>\n",
       "      <td>115007</td>\n",
       "      <td>48.2</td>\n",
       "      <td>2371.0</td>\n",
       "      <td>87700</td>\n",
       "      <td>62992.0</td>\n",
       "      <td>1.392240</td>\n",
       "      <td>309.0</td>\n",
       "    </tr>\n",
       "    <tr>\n",
       "      <th>171</th>\n",
       "      <td>170</td>\n",
       "      <td>Macon</td>\n",
       "      <td>Georgia</td>\n",
       "      <td>153095</td>\n",
       "      <td>91351</td>\n",
       "      <td>249.3</td>\n",
       "      <td>612.0</td>\n",
       "      <td>78600</td>\n",
       "      <td>56183.0</td>\n",
       "      <td>1.399000</td>\n",
       "      <td>308.0</td>\n",
       "    </tr>\n",
       "  </tbody>\n",
       "</table>\n",
       "</div>"
      ],
      "text/plain": [
       "     2018rank       City     State  2018estimate  2010Census  \\\n",
       "191       190     Dayton      Ohio        140640      141527   \n",
       "51         52  Cleveland      Ohio        383793      396815   \n",
       "110       111  Rochester  New York        206284      210565   \n",
       "121       120      Akron      Ohio        198006      199110   \n",
       "73         74     Toledo      Ohio        274975      287208   \n",
       "82         83    Buffalo  New York        256304      261310   \n",
       "186       185   Syracuse  New York        142749      145170   \n",
       "179       178   Rockford  Illinois        146526      152871   \n",
       "270       269     Peoria  Illinois        111388      115007   \n",
       "171       170      Macon   Georgia        153095       91351   \n",
       "\n",
       "     2016 land area (sq mi)  2016 population density (sq mi)   Zhvi  \\\n",
       "191                    55.7                           2522.0  51800   \n",
       "51                     77.7                           4965.0  55300   \n",
       "110                    35.8                           5835.0  75500   \n",
       "121                    62.0                           3188.0  67000   \n",
       "73                     80.7                           3451.0  69600   \n",
       "82                     40.4                           6359.0  86200   \n",
       "186                    25.0                           5735.0  87000   \n",
       "179                    63.5                           2325.0  86400   \n",
       "270                    48.2                           2371.0  87700   \n",
       "171                   249.3                            612.0  78600   \n",
       "\n",
       "     Median Income  Cost Score  Cost Rank  \n",
       "191        54021.0    0.958886      317.0  \n",
       "51         54021.0    1.023676      316.0  \n",
       "110        64894.0    1.163436      315.0  \n",
       "121        54021.0    1.240258      314.0  \n",
       "73         54021.0    1.288388      313.0  \n",
       "82         64894.0    1.328320      312.0  \n",
       "186        64894.0    1.340648      311.0  \n",
       "179        62992.0    1.371603      310.0  \n",
       "270        62992.0    1.392240      309.0  \n",
       "171        56183.0    1.399000      308.0  "
      ]
     },
     "execution_count": 748,
     "metadata": {},
     "output_type": "execute_result"
    }
   ],
   "source": [
    "df_topCitiesJoined.nlargest(10, 'Cost Rank')"
   ]
  }
 ],
 "metadata": {
  "kernelspec": {
   "display_name": "Python 3",
   "language": "python",
   "name": "python3"
  },
  "language_info": {
   "codemirror_mode": {
    "name": "ipython",
    "version": 3
   },
   "file_extension": ".py",
   "mimetype": "text/x-python",
   "name": "python",
   "nbconvert_exporter": "python",
   "pygments_lexer": "ipython3",
   "version": "3.7.3"
  }
 },
 "nbformat": 4,
 "nbformat_minor": 2
}
